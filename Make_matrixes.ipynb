{
 "cells": [
  {
   "cell_type": "code",
   "execution_count": 1,
   "metadata": {},
   "outputs": [
    {
     "name": "stdout",
     "output_type": "stream",
     "text": [
      "Cosine similarity matrix saved to 'cosine_similarity_matrix.npy'\n"
     ]
    }
   ],
   "source": [
    "import pandas as pd\n",
    "from sklearn.feature_extraction.text import TfidfVectorizer\n",
    "from sklearn.metrics.pairwise import cosine_similarity\n",
    "import numpy as np\n",
    "\n",
    "# Load the merged books dataset\n",
    "merged_book_df = pd.read_csv('merged_books.csv')\n",
    "\n",
    "# Compute the TF-IDF matrix\n",
    "descriptions = merged_book_df['description'].fillna('')\n",
    "tfidf_vectorizer = TfidfVectorizer(stop_words='english')\n",
    "tfidf_matrix = tfidf_vectorizer.fit_transform(descriptions)\n",
    "\n",
    "# Compute the cosine similarity matrix\n",
    "cosine_sim = cosine_similarity(tfidf_matrix, tfidf_matrix)\n",
    "\n",
    "# Save the cosine similarity matrix to a file\n",
    "np.save('cosine_similarity_matrix.npy', cosine_sim)\n",
    "print(\"Cosine similarity matrix saved to 'cosine_similarity_matrix.npy'\")"
   ]
  },
  {
   "cell_type": "code",
   "execution_count": 2,
   "metadata": {},
   "outputs": [
    {
     "name": "stdout",
     "output_type": "stream",
     "text": [
      "User similarity matrix saved to 'user_similarity_matrix.npy'\n"
     ]
    }
   ],
   "source": [
    "import pandas as pd\n",
    "from sklearn.metrics.pairwise import cosine_similarity\n",
    "from sklearn.preprocessing import StandardScaler\n",
    "from scipy.sparse import csr_matrix\n",
    "import numpy as np\n",
    "\n",
    "# Load the dataset\n",
    "data = pd.read_csv('filtered_ratings.csv', nrows=50000)\n",
    "\n",
    "# Preprocess the data\n",
    "data.fillna(0, inplace=True)\n",
    "\n",
    "# Create a user-item matrix\n",
    "user_item_matrix = data.pivot(index='User-ID', columns='ISBN', values='Book-Rating').fillna(0)\n",
    "\n",
    "# Convert the user-item matrix to a sparse matrix\n",
    "user_item_matrix_sparse = csr_matrix(user_item_matrix.values)\n",
    "\n",
    "# Normalize the user-item matrix\n",
    "scaler = StandardScaler(with_mean=False)\n",
    "user_item_matrix_normalized = scaler.fit_transform(user_item_matrix_sparse)\n",
    "\n",
    "# Compute user-user similarity\n",
    "user_similarity = cosine_similarity(user_item_matrix_normalized)\n",
    "\n",
    "# Save the user similarity matrix to a file\n",
    "np.save('user_similarity_matrix.npy', user_similarity)\n",
    "print(\"User similarity matrix saved to 'user_similarity_matrix.npy'\")"
   ]
  }
 ],
 "metadata": {
  "kernelspec": {
   "display_name": "Python 3",
   "language": "python",
   "name": "python3"
  },
  "language_info": {
   "codemirror_mode": {
    "name": "ipython",
    "version": 3
   },
   "file_extension": ".py",
   "mimetype": "text/x-python",
   "name": "python",
   "nbconvert_exporter": "python",
   "pygments_lexer": "ipython3",
   "version": "3.9.6"
  }
 },
 "nbformat": 4,
 "nbformat_minor": 2
}
