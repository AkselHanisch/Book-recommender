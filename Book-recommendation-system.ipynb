{
 "cells": [
  {
   "cell_type": "markdown",
   "metadata": {},
   "source": [
    "### Data collection"
   ]
  },
  {
   "cell_type": "code",
   "execution_count": null,
   "metadata": {},
   "outputs": [
    {
     "name": "stderr",
     "output_type": "stream",
     "text": [
      "[nltk_data] Downloading package stopwords to\n",
      "[nltk_data]     C:\\Users\\Lars\\AppData\\Roaming\\nltk_data...\n",
      "[nltk_data]   Package stopwords is already up-to-date!\n"
     ]
    }
   ],
   "source": [
    "import pandas as pd \n",
    "import numpy as np\n",
    "import matplotlib.pyplot as plt\n",
    "import random\n",
    "\n",
    "\n",
    "import scipy\n",
    "import math\n",
    "from sklearn.metrics.pairwise import cosine_similarity\n",
    "from scipy.sparse import csr_matrix\n",
    "from sklearn.neighbors import NearestNeighbors\n",
    "from sklearn.model_selection import train_test_split \n",
    "from scipy.sparse.linalg import svds \n",
    "from sklearn import preprocessing \n",
    "\n",
    "import nltk\n",
    "from nltk.corpus import stopwords\n",
    "from sklearn.preprocessing import normalize\n",
    "nltk.download('stopwords')\n",
    "from sklearn.feature_extraction.text import TfidfVectorizer \n"
   ]
  },
  {
   "cell_type": "code",
   "execution_count": 7,
   "metadata": {},
   "outputs": [
    {
     "name": "stderr",
     "output_type": "stream",
     "text": [
      "C:\\Users\\Lars\\AppData\\Local\\Temp\\ipykernel_25312\\2624249305.py:3: DtypeWarning: Columns (3) have mixed types. Specify dtype option on import or set low_memory=False.\n",
      "  df_books=pd.read_csv(path +'filtered_books.csv')\n"
     ]
    }
   ],
   "source": [
    "path='./Data/'\n",
    "\n",
    "df_books=pd.read_csv(path +'filtered_books.csv') \n",
    "df_ratings=pd.read_csv(path + 'Ratings.csv') \n",
    "df_users=pd.read_csv(path + 'Users.csv') "
   ]
  },
  {
   "cell_type": "code",
   "execution_count": 8,
   "metadata": {},
   "outputs": [
    {
     "data": {
      "text/html": [
       "<div>\n",
       "<style scoped>\n",
       "    .dataframe tbody tr th:only-of-type {\n",
       "        vertical-align: middle;\n",
       "    }\n",
       "\n",
       "    .dataframe tbody tr th {\n",
       "        vertical-align: top;\n",
       "    }\n",
       "\n",
       "    .dataframe thead th {\n",
       "        text-align: right;\n",
       "    }\n",
       "</style>\n",
       "<table border=\"1\" class=\"dataframe\">\n",
       "  <thead>\n",
       "    <tr style=\"text-align: right;\">\n",
       "      <th></th>\n",
       "      <th>User-ID</th>\n",
       "      <th>ISBN</th>\n",
       "      <th>Book-Rating</th>\n",
       "    </tr>\n",
       "  </thead>\n",
       "  <tbody>\n",
       "    <tr>\n",
       "      <th>0</th>\n",
       "      <td>276725</td>\n",
       "      <td>034545104X</td>\n",
       "      <td>0</td>\n",
       "    </tr>\n",
       "    <tr>\n",
       "      <th>1</th>\n",
       "      <td>276726</td>\n",
       "      <td>0155061224</td>\n",
       "      <td>5</td>\n",
       "    </tr>\n",
       "    <tr>\n",
       "      <th>2</th>\n",
       "      <td>276727</td>\n",
       "      <td>0446520802</td>\n",
       "      <td>0</td>\n",
       "    </tr>\n",
       "    <tr>\n",
       "      <th>3</th>\n",
       "      <td>276729</td>\n",
       "      <td>052165615X</td>\n",
       "      <td>3</td>\n",
       "    </tr>\n",
       "    <tr>\n",
       "      <th>4</th>\n",
       "      <td>276729</td>\n",
       "      <td>0521795028</td>\n",
       "      <td>6</td>\n",
       "    </tr>\n",
       "  </tbody>\n",
       "</table>\n",
       "</div>"
      ],
      "text/plain": [
       "   User-ID        ISBN  Book-Rating\n",
       "0   276725  034545104X            0\n",
       "1   276726  0155061224            5\n",
       "2   276727  0446520802            0\n",
       "3   276729  052165615X            3\n",
       "4   276729  0521795028            6"
      ]
     },
     "execution_count": 8,
     "metadata": {},
     "output_type": "execute_result"
    }
   ],
   "source": [
    "df_ratings.head()\n"
   ]
  },
  {
   "cell_type": "code",
   "execution_count": 9,
   "metadata": {},
   "outputs": [
    {
     "data": {
      "text/html": [
       "<div>\n",
       "<style scoped>\n",
       "    .dataframe tbody tr th:only-of-type {\n",
       "        vertical-align: middle;\n",
       "    }\n",
       "\n",
       "    .dataframe tbody tr th {\n",
       "        vertical-align: top;\n",
       "    }\n",
       "\n",
       "    .dataframe thead th {\n",
       "        text-align: right;\n",
       "    }\n",
       "</style>\n",
       "<table border=\"1\" class=\"dataframe\">\n",
       "  <thead>\n",
       "    <tr style=\"text-align: right;\">\n",
       "      <th></th>\n",
       "      <th>User-ID</th>\n",
       "      <th>Age</th>\n",
       "    </tr>\n",
       "  </thead>\n",
       "  <tbody>\n",
       "    <tr>\n",
       "      <th>count</th>\n",
       "      <td>278858.00000</td>\n",
       "      <td>168096.000000</td>\n",
       "    </tr>\n",
       "    <tr>\n",
       "      <th>mean</th>\n",
       "      <td>139429.50000</td>\n",
       "      <td>34.751434</td>\n",
       "    </tr>\n",
       "    <tr>\n",
       "      <th>std</th>\n",
       "      <td>80499.51502</td>\n",
       "      <td>14.428097</td>\n",
       "    </tr>\n",
       "    <tr>\n",
       "      <th>min</th>\n",
       "      <td>1.00000</td>\n",
       "      <td>0.000000</td>\n",
       "    </tr>\n",
       "    <tr>\n",
       "      <th>25%</th>\n",
       "      <td>69715.25000</td>\n",
       "      <td>24.000000</td>\n",
       "    </tr>\n",
       "    <tr>\n",
       "      <th>50%</th>\n",
       "      <td>139429.50000</td>\n",
       "      <td>32.000000</td>\n",
       "    </tr>\n",
       "    <tr>\n",
       "      <th>75%</th>\n",
       "      <td>209143.75000</td>\n",
       "      <td>44.000000</td>\n",
       "    </tr>\n",
       "    <tr>\n",
       "      <th>max</th>\n",
       "      <td>278858.00000</td>\n",
       "      <td>244.000000</td>\n",
       "    </tr>\n",
       "  </tbody>\n",
       "</table>\n",
       "</div>"
      ],
      "text/plain": [
       "            User-ID            Age\n",
       "count  278858.00000  168096.000000\n",
       "mean   139429.50000      34.751434\n",
       "std     80499.51502      14.428097\n",
       "min         1.00000       0.000000\n",
       "25%     69715.25000      24.000000\n",
       "50%    139429.50000      32.000000\n",
       "75%    209143.75000      44.000000\n",
       "max    278858.00000     244.000000"
      ]
     },
     "execution_count": 9,
     "metadata": {},
     "output_type": "execute_result"
    }
   ],
   "source": [
    "df_users.describe()\n",
    "\n"
   ]
  },
  {
   "cell_type": "markdown",
   "metadata": {},
   "source": [
    "### Preprocessing"
   ]
  },
  {
   "cell_type": "code",
   "execution_count": null,
   "metadata": {},
   "outputs": [
    {
     "data": {
      "text/plain": [
       "(851511, 12)"
      ]
     },
     "execution_count": 14,
     "metadata": {},
     "output_type": "execute_result"
    }
   ],
   "source": [
    "merged_df=pd.merge(df_users,df_ratings,on='User-ID')\n",
    "merged_df=pd.merge(merged_df,df_books,on='ISBN')\n",
    "\n",
    "merged_df.shape\n",
    "\n"
   ]
  },
  {
   "cell_type": "markdown",
   "metadata": {},
   "source": [
    "### Collaberative Filtering"
   ]
  },
  {
   "cell_type": "code",
   "execution_count": 39,
   "metadata": {},
   "outputs": [
    {
     "name": "stdout",
     "output_type": "stream",
     "text": [
      "Recommendations for user 10: ['8804284749', '8804348879', '8807700786', '8811598680', '888113098X']\n"
     ]
    }
   ],
   "source": [
    "# Import necessary libraries\n",
    "import pandas as pd\n",
    "from sklearn.metrics.pairwise import cosine_similarity\n",
    "from sklearn.preprocessing import StandardScaler\n",
    "from scipy.sparse import csr_matrix\n",
    "\n",
    "# Load the dataset\n",
    "data = pd.read_csv('data/ratings.csv', nrows=50000)\n",
    "\n",
    "# Preprocess the data\n",
    "data.fillna(0, inplace=True)\n",
    "\n",
    "# Create a user-item matrix\n",
    "user_item_matrix = data.pivot(index='User-ID', columns='ISBN', values='Book-Rating').fillna(0)\n",
    "\n",
    "# Convert the user-item matrix to a sparse matrix\n",
    "user_item_matrix_sparse = csr_matrix(user_item_matrix.values)\n",
    "\n",
    "# Normalize the user-item matrix\n",
    "scaler = StandardScaler(with_mean=False)\n",
    "user_item_matrix_normalized = scaler.fit_transform(user_item_matrix_sparse)\n",
    "\n",
    "# Compute user-user similarity\n",
    "user_similarity = cosine_similarity(user_item_matrix_normalized)\n",
    "\n",
    "# Convert the similarity matrix back to a DataFrame\n",
    "user_similarity_df = pd.DataFrame(user_similarity, index=user_item_matrix.index, columns=user_item_matrix.index)\n",
    "\n",
    "# Function to get top N similar users\n",
    "def get_top_n_similar_users(user_id, n=5):\n",
    "    similar_users = user_similarity_df[user_id].sort_values(ascending=False).head(n+1).index.tolist()\n",
    "    similar_users.remove(user_id)\n",
    "    return similar_users\n",
    "\n",
    "# Function to generate recommendations for a user\n",
    "def recommend_items(user_id, n=5):\n",
    "    similar_users = get_top_n_similar_users(user_id, n)\n",
    "    similar_users_ratings = user_item_matrix.loc[similar_users]\n",
    "    recommended_items = similar_users_ratings.mean(axis=0).sort_values(ascending=False).head(n).index.tolist()\n",
    "    return recommended_items\n",
    "\n",
    "# Example usage\n",
    "user_id = 10\n",
    "recommendations = recommend_items(user_id, n=5)\n",
    "print(f\"Recommendations for user {user_id}: {recommendations}\")"
   ]
  },
  {
   "cell_type": "code",
   "execution_count": 44,
   "metadata": {},
   "outputs": [
    {
     "name": "stdout",
     "output_type": "stream",
     "text": [
      "Item Similarity Matrix:\n",
      "ISBN        002542730X  0060008032  0060096195  006016848X  0060173289  \\\n",
      "ISBN                                                                     \n",
      "002542730X    1.000000    0.015558    0.000000    0.014222         0.0   \n",
      "0060008032    0.015558    1.000000    0.036488    0.063930         0.0   \n",
      "0060096195    0.000000    0.036488    1.000000    0.000000         0.0   \n",
      "006016848X    0.014222    0.063930    0.000000    1.000000         0.0   \n",
      "0060173289    0.000000    0.000000    0.000000    0.000000         1.0   \n",
      "\n",
      "ISBN        0060175400  006019491X  0060199652  0060391626  0060392452  ...  \\\n",
      "ISBN                                                                    ...   \n",
      "002542730X    0.024904    0.016457    0.013124    0.011569    0.025633  ...   \n",
      "0060008032    0.024103    0.056502    0.027945    0.024634    0.000000  ...   \n",
      "0060096195    0.015929    0.000000    0.000000    0.000000    0.022010  ...   \n",
      "006016848X    0.022034    0.032032    0.025546    0.035030    0.022902  ...   \n",
      "0060173289    0.055618    0.000000    0.059895    0.000000    0.023828  ...   \n",
      "\n",
      "ISBN        1558744630  1558745157  1559029838  1573225517  1573225789  \\\n",
      "ISBN                                                                     \n",
      "002542730X    0.008914    0.023633    0.013015    0.029431    0.030372   \n",
      "0060008032    0.000000    0.026027    0.027712    0.000000    0.022559   \n",
      "0060096195    0.000000    0.000000    0.040698    0.000000    0.011182   \n",
      "006016848X    0.000000    0.034368    0.025333    0.000000    0.020623   \n",
      "0060173289    0.000000    0.018991    0.000000    0.000000    0.014403   \n",
      "\n",
      "ISBN        1573227331  1573229326  1573229571  1592400876  1878424319  \n",
      "ISBN                                                                    \n",
      "002542730X    0.039190    0.038208    0.026314    0.026203    0.000000  \n",
      "0060008032    0.016047    0.036349    0.075038    0.048228    0.000000  \n",
      "0060096195    0.000000    0.000000    0.000000    0.027342    0.000000  \n",
      "006016848X    0.014670    0.016614    0.046645    0.023341    0.033698  \n",
      "0060173289    0.000000    0.008288    0.021900    0.000000    0.000000  \n",
      "\n",
      "[5 rows x 731 columns]\n"
     ]
    },
    {
     "data": {
      "text/plain": [
       "ISBN\n",
       "0316899984    0.053442\n",
       "0553282476    0.039898\n",
       "080411918X    0.037778\n",
       "038533334X    0.037013\n",
       "0060916508    0.034303\n",
       "dtype: float64"
      ]
     },
     "execution_count": 44,
     "metadata": {},
     "output_type": "execute_result"
    }
   ],
   "source": [
    "book_review_counts = df_ratings['ISBN'].value_counts()\n",
    "popular_books = book_review_counts[book_review_counts >= 100].index\n",
    "filtered_ratings = df_ratings[df_ratings['ISBN'].isin(popular_books)]\n",
    "\n",
    "\n",
    "user_item_matrix = filtered_ratings.pivot(index='User-ID', columns='ISBN', values='Book-Rating').fillna(0)\n",
    "\n",
    "\n",
    "sparse_matrix = csr_matrix(user_item_matrix.values)\n",
    "\n",
    "item_similarity = cosine_similarity(sparse_matrix.T)  # Transpose for item-item similarity\n",
    "item_similarity_df = pd.DataFrame(\n",
    "    item_similarity, index=user_item_matrix.columns, columns=user_item_matrix.columns\n",
    ")\n",
    "\n",
    "\n",
    "item_similarity_df.sample(5, axis=1).sample(5, axis=0)  # Random subset to inspect\n",
    "\n",
    "# Step 4: Define a function to predict ratings\n",
    "def predict_ratings(user_id, user_item_matrix, item_similarity_df, k=5):\n",
    "    user_ratings = user_item_matrix.loc[user_id]  # Ratings by the target user\n",
    "    scores = item_similarity_df.dot(user_ratings).div(item_similarity_df.sum(axis=1))  # Weighted average\n",
    "    scores[user_ratings > 0] = 0  # Ignore already rated items\n",
    "    return scores.sort_values(ascending=False).head(k)  # Return top-k recommendations\n",
    "\n",
    "# Display a sample of the item similarity matrix to the user\n",
    "print(\"Item Similarity Matrix:\")\n",
    "print(item_similarity_df.head())\n",
    "# Example: Predict top recommendations for a user\n",
    "example_user_id = user_item_matrix.index[0]  # Choose the first user as an example\n",
    "recommendations = predict_ratings(example_user_id, user_item_matrix, item_similarity_df, k=5)\n",
    "recommendations\n"
   ]
  }
 ],
 "metadata": {
  "kernelspec": {
   "display_name": "Python 3",
   "language": "python",
   "name": "python3"
  },
  "language_info": {
   "codemirror_mode": {
    "name": "ipython",
    "version": 3
   },
   "file_extension": ".py",
   "mimetype": "text/x-python",
   "name": "python",
   "nbconvert_exporter": "python",
   "pygments_lexer": "ipython3",
   "version": "3.11.4"
  }
 },
 "nbformat": 4,
 "nbformat_minor": 2
}
