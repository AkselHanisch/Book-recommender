{
 "cells": [
  {
   "cell_type": "markdown",
   "metadata": {},
   "source": [
    "# Content beased filtering using BERT\n",
    "Recommendations using BERT"
   ]
  },
  {
   "cell_type": "code",
   "execution_count": 10,
   "metadata": {},
   "outputs": [],
   "source": [
    "import pandas as pd\n",
    "import numpy as np\n",
    "\n",
    "import re\n",
    "import string\n",
    "\n",
    "from nltk.classify.textcat import TextCat\n",
    "\n",
    "import dask.dataframe as dd\n",
    "import multiprocessing\n",
    "\n",
    "from keybert import KeyBERT\n",
    "\n",
    "from sklearn.feature_extraction.text import TfidfVectorizer\n",
    "\n",
    "import matplotlib.pyplot as plt\n",
    "import altair as alt\n",
    "alt.renderers.enable('mimetype')\n",
    "\n",
    "from sklearn.metrics.pairwise import cosine_similarity"
   ]
  },
  {
   "cell_type": "markdown",
   "metadata": {},
   "source": [
    "### Data Cleaning"
   ]
  },
  {
   "cell_type": "code",
   "execution_count": null,
   "metadata": {},
   "outputs": [
    {
     "name": "stderr",
     "output_type": "stream",
     "text": [
      "C:\\Users\\Lars\\AppData\\Local\\Temp\\ipykernel_23068\\3505595599.py:3: DtypeWarning: Columns (3) have mixed types. Specify dtype option on import or set low_memory=False.\n",
      "  df_books1=pd.read_csv(path +'Books-old.csv')\n"
     ]
    }
   ],
   "source": [
    "path='./Data/'\n",
    "\n",
    "df_books1=pd.read_csv(path +'Books-old.csv') \n",
    "df_books2 = pd.read_csv(path + 'books_1.Best_Books_Ever') #To skip bad lines\n",
    "df_ratings=pd.read_csv(path + 'Ratings.csv') \n",
    "df_users=pd.read_csv(path + 'Users.csv') \n",
    "\n",
    "#Renameing\n",
    "df_books2.rename(columns={'isbn10':'ISBN'}, inplace=True)\n"
   ]
  },
  {
   "cell_type": "code",
   "execution_count": 30,
   "metadata": {},
   "outputs": [
    {
     "name": "stdout",
     "output_type": "stream",
     "text": [
      "df_books1:\n",
      "Shape: (271360, 8)\n",
      "Columns: ['ISBN', 'Book-Title', 'Book-Author', 'Year-Of-Publication', 'Publisher', 'Image-URL-S', 'Image-URL-M', 'Image-URL-L']\n",
      "\n",
      "df_books2:\n",
      "Shape: (6810, 12)\n",
      "Columns: ['isbn13', 'ISBN', 'title', 'subtitle', 'authors', 'categories', 'thumbnail', 'description', 'published_year', 'average_rating', 'num_pages', 'ratings_count']\n"
     ]
    }
   ],
   "source": [
    "print(\"df_books1:\")\n",
    "print(f\"Shape: {df_books1.shape}\")\n",
    "print(f\"Columns: {df_books1.columns.tolist()}\\n\")\n",
    "\n",
    "print(\"df_books2:\")\n",
    "print(f\"Shape: {df_books2.shape}\")\n",
    "print(f\"Columns: {df_books2.columns.tolist()}\")"
   ]
  },
  {
   "cell_type": "code",
   "execution_count": 38,
   "metadata": {},
   "outputs": [
    {
     "name": "stdout",
     "output_type": "stream",
     "text": [
      "df_books_merged:\n",
      "Shape: (2447, 19)\n",
      "Columns: ['ISBN', 'Book-Title', 'Book-Author', 'Year-Of-Publication', 'Publisher', 'Image-URL-S', 'Image-URL-M', 'Image-URL-L', 'isbn13', 'title', 'subtitle', 'authors', 'categories', 'thumbnail', 'description', 'published_year', 'average_rating', 'num_pages', 'ratings_count']\n",
      "df_books_merged:\n",
      "Shape: (2369, 19)\n",
      "Columns: ['ISBN', 'Book-Title', 'Book-Author', 'Year-Of-Publication', 'Publisher', 'Image-URL-S', 'Image-URL-M', 'Image-URL-L', 'isbn13', 'title', 'subtitle', 'authors', 'categories', 'thumbnail', 'description', 'published_year', 'average_rating', 'num_pages', 'ratings_count']\n"
     ]
    },
    {
     "data": {
      "text/plain": [
       "<bound method NDFrame.head of             ISBN                                         Book-Title  \\\n",
       "0     0440234743                                      The Testament   \n",
       "1     0553582909                                           Icebound   \n",
       "2     0842342702  Left Behind: A Novel of the Earth's Last Days ...   \n",
       "3     0316769487                             The Catcher in the Rye   \n",
       "4     067976397X                       Corelli's Mandolin : A Novel   \n",
       "...          ...                                                ...   \n",
       "2441  0312155328  From Bondage: Mercy of a Rude Stream (Mercy of...   \n",
       "2442  0312421974                   This Side of Brightness: A Novel   \n",
       "2444  0751506451            The Maiden (The Morland Dynasty Series)   \n",
       "2445  0312890389                   Pacific Edge (Three Californias)   \n",
       "2446  0439436540             The Time Machine (Scholastic Classics)   \n",
       "\n",
       "                Book-Author Year-Of-Publication                 Publisher  \\\n",
       "0              John Grisham                1999                      Dell   \n",
       "1            Dean R. Koontz                2000              Bantam Books   \n",
       "2                Tim Lahaye                2000  Tyndale House Publishers   \n",
       "3             J.D. Salinger                1991             Little, Brown   \n",
       "4        LOUIS DE BERNIERES                1995                   Vintage   \n",
       "...                     ...                 ...                       ...   \n",
       "2441             Henry Roth                1997               Picador USA   \n",
       "2442           Colum McCann                2003     St Martins Pr Special   \n",
       "2444  Cynthia Harrod-Eagles                2001       Little Brown UK Ltd   \n",
       "2445   Kim Stanley Robinson                1995                 Orb Books   \n",
       "2446            H. G. Wells                2004     Scholastic Paperbacks   \n",
       "\n",
       "                                            Image-URL-S  \\\n",
       "0     http://images.amazon.com/images/P/0440234743.0...   \n",
       "1     http://images.amazon.com/images/P/0553582909.0...   \n",
       "2     http://images.amazon.com/images/P/0842342702.0...   \n",
       "3     http://images.amazon.com/images/P/0316769487.0...   \n",
       "4     http://images.amazon.com/images/P/067976397X.0...   \n",
       "...                                                 ...   \n",
       "2441  http://images.amazon.com/images/P/0312155328.0...   \n",
       "2442  http://images.amazon.com/images/P/0312421974.0...   \n",
       "2444  http://images.amazon.com/images/P/0751506451.0...   \n",
       "2445  http://images.amazon.com/images/P/0312890389.0...   \n",
       "2446  http://images.amazon.com/images/P/0439436540.0...   \n",
       "\n",
       "                                            Image-URL-M  \\\n",
       "0     http://images.amazon.com/images/P/0440234743.0...   \n",
       "1     http://images.amazon.com/images/P/0553582909.0...   \n",
       "2     http://images.amazon.com/images/P/0842342702.0...   \n",
       "3     http://images.amazon.com/images/P/0316769487.0...   \n",
       "4     http://images.amazon.com/images/P/067976397X.0...   \n",
       "...                                                 ...   \n",
       "2441  http://images.amazon.com/images/P/0312155328.0...   \n",
       "2442  http://images.amazon.com/images/P/0312421974.0...   \n",
       "2444  http://images.amazon.com/images/P/0751506451.0...   \n",
       "2445  http://images.amazon.com/images/P/0312890389.0...   \n",
       "2446  http://images.amazon.com/images/P/0439436540.0...   \n",
       "\n",
       "                                            Image-URL-L         isbn13  \\\n",
       "0     http://images.amazon.com/images/P/0440234743.0...  9780440234746   \n",
       "1     http://images.amazon.com/images/P/0553582909.0...  9780553582901   \n",
       "2     http://images.amazon.com/images/P/0842342702.0...  9780842342704   \n",
       "3     http://images.amazon.com/images/P/0316769487.0...  9780316769488   \n",
       "4     http://images.amazon.com/images/P/067976397X.0...  9780679763970   \n",
       "...                                                 ...            ...   \n",
       "2441  http://images.amazon.com/images/P/0312155328.0...  9780312155322   \n",
       "2442  http://images.amazon.com/images/P/0312421974.0...  9780312421977   \n",
       "2444  http://images.amazon.com/images/P/0751506451.0...  9780751506457   \n",
       "2445  http://images.amazon.com/images/P/0312890389.0...  9780312890384   \n",
       "2446  http://images.amazon.com/images/P/0439436540.0...  9780439436540   \n",
       "\n",
       "                        title                              subtitle  \\\n",
       "0               The Testament                                   NaN   \n",
       "1                    Icebound                                   NaN   \n",
       "2                 Left behind      a novel of the earth's last days   \n",
       "3      The Catcher in the Rye                                   NaN   \n",
       "4          Corelli's Mandolin                               A Novel   \n",
       "...                       ...                                   ...   \n",
       "2441             From Bondage  Volume III of Mercy of a Rude Stream   \n",
       "2442  This Side of Brightness                               A Novel   \n",
       "2444               The Maiden                                   NaN   \n",
       "2445             Pacific Edge                     Three Californias   \n",
       "2446         The Time Machine                                   NaN   \n",
       "\n",
       "                                        authors        categories  \\\n",
       "0                                  John Grisham           Fiction   \n",
       "1                                   Dean Koontz           Fiction   \n",
       "2     Tim Lahaye;Tim F. LaHaye;Jerry B. Jenkins           Fiction   \n",
       "3                                 J.D. Salinger           Fiction   \n",
       "4                            Louis De Bernières           Fiction   \n",
       "...                                         ...               ...   \n",
       "2441                                 Henry Roth           Fiction   \n",
       "2442                               Colum McCann           Fiction   \n",
       "2444                      Cynthia Harrod-Eagles           Fiction   \n",
       "2445                       Kim Stanley Robinson           Fiction   \n",
       "2446                 H. G. Wells;Melvin Burgess  Juvenile Fiction   \n",
       "\n",
       "                                              thumbnail  \\\n",
       "0     http://books.google.com/books/content?id=n5F5Q...   \n",
       "1     http://books.google.com/books/content?id=jGYQy...   \n",
       "2     http://books.google.com/books/content?id=xsfMp...   \n",
       "3     http://books.google.com/books/content?id=Zotvl...   \n",
       "4     http://books.google.com/books/content?id=dsJFZ...   \n",
       "...                                                 ...   \n",
       "2441  http://books.google.com/books/content?id=4oDRk...   \n",
       "2442  http://books.google.com/books/content?id=50EME...   \n",
       "2444  http://books.google.com/books/content?id=o37aG...   \n",
       "2445  http://books.google.com/books/content?id=H_ubx...   \n",
       "2446  http://books.google.com/books/content?id=G9s8P...   \n",
       "\n",
       "                                            description  published_year  \\\n",
       "0     A suicidal billionaire, a burnt-out Washington...          2000.0   \n",
       "1     A secret Arctic experiment turns into a frozen...          2000.0   \n",
       "2     The first book in the author's successful \"las...          1998.0   \n",
       "3     The \"brilliant, funny, meaningful novel\" (The ...          1991.0   \n",
       "4     The idyllic world of the Greek island of Cepha...          1995.0   \n",
       "...                                                 ...             ...   \n",
       "2441  An old Jew looks back on his climb from the sl...          1997.0   \n",
       "2442                                        Winter 2003          2003.0   \n",
       "2444  1720: political intrigue besets the kingdom as...          1985.0   \n",
       "2445  Set at the end of the 21st century in Californ...          1995.0   \n",
       "2446  Presents the classic science fiction thriller ...          2004.0   \n",
       "\n",
       "      average_rating  num_pages  ratings_count  \n",
       "0               3.85      535.0        85975.0  \n",
       "1               3.76      408.0        16801.0  \n",
       "2               3.83      342.0       181922.0  \n",
       "3               3.80      234.0        18849.0  \n",
       "4               3.97      437.0        61387.0  \n",
       "...              ...        ...            ...  \n",
       "2441            4.10      420.0           57.0  \n",
       "2442            3.85      304.0         2410.0  \n",
       "2444            4.27      413.0          322.0  \n",
       "2445            3.78      336.0         1154.0  \n",
       "2446            3.88      123.0          263.0  \n",
       "\n",
       "[2369 rows x 19 columns]>"
      ]
     },
     "execution_count": 38,
     "metadata": {},
     "output_type": "execute_result"
    }
   ],
   "source": [
    "# Merged dataset\n",
    "\n",
    "\n",
    "\n",
    "merged_book_df=pd.merge(df_books1, df_books2, on='ISBN', how='inner') \n",
    "\n",
    "print(\"df_books_merged:\")\n",
    "print(f\"Shape: {merged_book_df.shape}\")\n",
    "print(f\"Columns: {merged_book_df.columns.tolist()}\")\n",
    "\n",
    "\n",
    "\n",
    "merged_book_df.dropna(subset=[\"description\"], inplace=True)\n",
    "\n",
    "print(\"df_books_merged:\")\n",
    "print(f\"Shape: {merged_book_df.shape}\")\n",
    "print(f\"Columns: {merged_book_df.columns.tolist()}\")\n",
    "\n",
    "merged_book_df.head\n"
   ]
  },
  {
   "cell_type": "markdown",
   "metadata": {},
   "source": [
    "## Data cleanup"
   ]
  },
  {
   "cell_type": "code",
   "execution_count": null,
   "metadata": {},
   "outputs": [
    {
     "name": "stdout",
     "output_type": "stream",
     "text": [
      "0    A suicidal billionaire a burntout Washington l...\n",
      "1    A secret Arctic experiment turns into a frozen...\n",
      "2    The first book in the authors successful last ...\n",
      "3    The brilliant funny meaningful novel The New Y...\n",
      "4    The idyllic world of the Greek island of Cepha...\n",
      "Name: description, dtype: object\n",
      "0    A suicidal billionaire a burntout Washington l...\n",
      "1    A secret Arctic experiment turns into a frozen...\n",
      "2    The first book in the authors successful last ...\n",
      "3    The brilliant funny meaningful novel The New Y...\n",
      "4    The idyllic world of the Greek island of Cepha...\n",
      "Name: description, dtype: object\n"
     ]
    }
   ],
   "source": [
    "merged_book_df['description'] = merged_book_df['description'].str.replace(r'@\\w+', '<user>', regex=True)\n",
    "\n",
    "merged_book_df['description'] = merged_book_df['description'].str.replace(r'http\\w+', '<url>', regex=True)\n",
    "\n",
    "#list(merged_book_df.description[merged_book_df.Id == 1099555]) #Description with url and html tag\n",
    "\n",
    "merged_book_df['description'] = merged_book_df['description'].str.replace(r'[{}]+'.format(string.punctuation), '', regex=True)\n",
    "\n",
    "\n",
    "print(merged_book_df['description'].head())\n"
   ]
  },
  {
   "cell_type": "code",
   "execution_count": 49,
   "metadata": {},
   "outputs": [
    {
     "data": {
      "text/plain": [
       "'terror fear climax chilling experiences'"
      ]
     },
     "execution_count": 49,
     "metadata": {},
     "output_type": "execute_result"
    }
   ],
   "source": [
    "from tqdm import tqdm\n",
    "\n",
    "\n",
    "model=KeyBERT()\n",
    "\n",
    "def get_keywords_from_description(description):\n",
    "    keywords = model.extract_keywords(description, keyphrase_ngram_range=(1, 1), stop_words=\"english\")\n",
    "    keywords = \" \".join([k[0] for k in keywords])\n",
    "    return keywords\n",
    "\n",
    "get_keywords_from_description(merged_book_df['description'].iloc[20])"
   ]
  },
  {
   "cell_type": "code",
   "execution_count": null,
   "metadata": {},
   "outputs": [],
   "source": []
  }
 ],
 "metadata": {
  "kernelspec": {
   "display_name": "Python 3",
   "language": "python",
   "name": "python3"
  },
  "language_info": {
   "codemirror_mode": {
    "name": "ipython",
    "version": 3
   },
   "file_extension": ".py",
   "mimetype": "text/x-python",
   "name": "python",
   "nbconvert_exporter": "python",
   "pygments_lexer": "ipython3",
   "version": "3.11.4"
  }
 },
 "nbformat": 4,
 "nbformat_minor": 2
}
