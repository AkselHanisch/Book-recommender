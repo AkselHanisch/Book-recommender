{
 "cells": [
  {
   "cell_type": "markdown",
   "metadata": {},
   "source": [
    "# Content beased filtering using BERT\n",
    "Recommendations using BERT"
   ]
  },
  {
   "cell_type": "code",
   "execution_count": 10,
   "metadata": {},
   "outputs": [],
   "source": [
    "import pandas as pd\n",
    "import numpy as np\n",
    "\n",
    "import re\n",
    "import string\n",
    "\n",
    "from nltk.classify.textcat import TextCat\n",
    "\n",
    "import dask.dataframe as dd\n",
    "import multiprocessing\n",
    "\n",
    "from keybert import KeyBERT\n",
    "\n",
    "from sklearn.feature_extraction.text import TfidfVectorizer\n",
    "\n",
    "import matplotlib.pyplot as plt\n",
    "import altair as alt\n",
    "alt.renderers.enable('mimetype')\n",
    "\n",
    "from sklearn.metrics.pairwise import cosine_similarity"
   ]
  },
  {
   "cell_type": "markdown",
   "metadata": {},
   "source": [
    "### Data Cleaning"
   ]
  },
  {
   "cell_type": "code",
   "execution_count": null,
   "metadata": {},
   "outputs": [
    {
     "name": "stderr",
     "output_type": "stream",
     "text": [
      "C:\\Users\\Lars\\AppData\\Local\\Temp\\ipykernel_23068\\402415562.py:3: DtypeWarning: Columns (3) have mixed types. Specify dtype option on import or set low_memory=False.\n",
      "  df_books1=pd.read_csv(path +'Books-old.csv')\n"
     ]
    }
   ],
   "source": [
    "path='./Data/'\n",
    "\n",
    "df_books1=pd.read_csv(path +'Books-old.csv') \n",
    "df_books2 = pd.read_csv(path + '7k-Books.csv') #To skip bad lines\n",
    "df_ratings=pd.read_csv(path + 'Ratings.csv') \n",
    "df_users=pd.read_csv(path + 'Users.csv') \n",
    "\n",
    "#Renameing\n",
    "df_books2.rename(columns={'isbn10':'ISBN'}, inplace=True)\n"
   ]
  },
  {
   "cell_type": "code",
   "execution_count": 30,
   "metadata": {},
   "outputs": [
    {
     "name": "stdout",
     "output_type": "stream",
     "text": [
      "df_books1:\n",
      "Shape: (271360, 8)\n",
      "Columns: ['ISBN', 'Book-Title', 'Book-Author', 'Year-Of-Publication', 'Publisher', 'Image-URL-S', 'Image-URL-M', 'Image-URL-L']\n",
      "\n",
      "df_books2:\n",
      "Shape: (6810, 12)\n",
      "Columns: ['isbn13', 'ISBN', 'title', 'subtitle', 'authors', 'categories', 'thumbnail', 'description', 'published_year', 'average_rating', 'num_pages', 'ratings_count']\n"
     ]
    }
   ],
   "source": [
    "print(\"df_books1:\")\n",
    "print(f\"Shape: {df_books1.shape}\")\n",
    "print(f\"Columns: {df_books1.columns.tolist()}\\n\")\n",
    "\n",
    "print(\"df_books2:\")\n",
    "print(f\"Shape: {df_books2.shape}\")\n",
    "print(f\"Columns: {df_books2.columns.tolist()}\")"
   ]
  },
  {
   "cell_type": "code",
   "execution_count": 31,
   "metadata": {},
   "outputs": [
    {
     "name": "stdout",
     "output_type": "stream",
     "text": [
      "df_books_merged:\n",
      "Shape: (2447, 19)\n",
      "Columns: ['ISBN', 'Book-Title', 'Book-Author', 'Year-Of-Publication', 'Publisher', 'Image-URL-S', 'Image-URL-M', 'Image-URL-L', 'isbn13', 'title', 'subtitle', 'authors', 'categories', 'thumbnail', 'description', 'published_year', 'average_rating', 'num_pages', 'ratings_count']\n",
      "df_books_merged:\n",
      "Shape: (2369, 19)\n",
      "Columns: ['ISBN', 'Book-Title', 'Book-Author', 'Year-Of-Publication', 'Publisher', 'Image-URL-S', 'Image-URL-M', 'Image-URL-L', 'isbn13', 'title', 'subtitle', 'authors', 'categories', 'thumbnail', 'description', 'published_year', 'average_rating', 'num_pages', 'ratings_count']\n"
     ]
    }
   ],
   "source": [
    "# Merged dataset\n",
    "\n",
    "\n",
    "\n",
    "merged_book_df=pd.merge(df_books1, df_books2, on='ISBN', how='inner') \n",
    "\n",
    "print(\"df_books_merged:\")\n",
    "print(f\"Shape: {merged_book_df.shape}\")\n",
    "print(f\"Columns: {merged_book_df.columns.tolist()}\")\n",
    "\n",
    "\n",
    "\n",
    "merged_book_df.dropna(subset=[\"description\"], inplace=True)\n",
    "\n",
    "print(\"df_books_merged:\")\n",
    "print(f\"Shape: {merged_book_df.shape}\")\n",
    "print(f\"Columns: {merged_book_df.columns.tolist()}\")\n"
   ]
  },
  {
   "cell_type": "code",
   "execution_count": null,
   "metadata": {},
   "outputs": [],
   "source": []
  }
 ],
 "metadata": {
  "kernelspec": {
   "display_name": "Python 3",
   "language": "python",
   "name": "python3"
  },
  "language_info": {
   "codemirror_mode": {
    "name": "ipython",
    "version": 3
   },
   "file_extension": ".py",
   "mimetype": "text/x-python",
   "name": "python",
   "nbconvert_exporter": "python",
   "pygments_lexer": "ipython3",
   "version": "3.11.4"
  }
 },
 "nbformat": 4,
 "nbformat_minor": 2
}
